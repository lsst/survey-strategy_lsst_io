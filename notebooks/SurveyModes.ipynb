{
 "cells": [
  {
   "cell_type": "markdown",
   "id": "434a8b2e-175d-4612-aa28-2df2add7e8bd",
   "metadata": {},
   "source": [
    "# Evaluating footprints for various survey modes, in baseline survey v4 #\n",
    "\n",
    "This notebook uses the input target footprint from the scheduler to describe the on-sky goal footprint for various survey modes.\n",
    "Then MAF is used with the simulation output to describe the typical number of visits per filter in each of these areas. "
   ]
  },
  {
   "cell_type": "code",
   "execution_count": null,
   "id": "6627ecba-1f61-4700-b95d-7e8007f621d7",
   "metadata": {},
   "outputs": [],
   "source": [
    "# Import required python modules\n",
    "import os\n",
    "from IPython.display import display, Markdown, HTML\n",
    "import numpy as np\n",
    "import matplotlib.pyplot as plt\n",
    "import healpy as hp\n",
    "import pandas as pd\n",
    "import sqlite3\n",
    "from astropy.coordinates import SkyCoord\n",
    "import astropy.units as u\n",
    "import rubin_scheduler.scheduler.utils as sched_utils\n",
    "from rubin_scheduler.utils import ddf_locations\n",
    "from rubin_sim.data import get_baseline\n",
    "import rubin_sim.maf as maf"
   ]
  },
  {
   "cell_type": "code",
   "execution_count": null,
   "id": "077395b1-59c8-44cc-8e3a-c6b8f3c9cb7b",
   "metadata": {},
   "outputs": [],
   "source": [
    "version = 'v4.0'"
   ]
  },
  {
   "cell_type": "markdown",
   "id": "f999f532-04fa-4b22-800e-70c46d0f4ac9",
   "metadata": {},
   "source": [
    "The current survey 'target map' is defined in the class [CurrentAreaMap](https://rubin-scheduler.lsst.io/fbs-api-utils.html#rubin_scheduler.scheduler.utils.CurrentAreaMap)."
   ]
  },
  {
   "cell_type": "code",
   "execution_count": null,
   "id": "86bcd183-2f37-4be8-8b54-b3228291b33f",
   "metadata": {},
   "outputs": [],
   "source": [
    "nside = 64\n",
    "sky = sched_utils.CurrentAreaMap(nside=nside)\n",
    "# footprints contains the goal weights per filter, for the sky (all survey modes together)\n",
    "# labels contains the label (survey mode) for each healpix. \n",
    "footprints, labels = sky.return_maps()"
   ]
  },
  {
   "cell_type": "code",
   "execution_count": null,
   "id": "6002ed96-8a99-4ec0-9430-58c9a967a2d0",
   "metadata": {},
   "outputs": [],
   "source": [
    "# Each healpix is only labelled with a single survey mode label\n",
    "np.unique(labels)"
   ]
  },
  {
   "cell_type": "code",
   "execution_count": null,
   "id": "afa1256f-db26-4299-893b-c86c0aad10d7",
   "metadata": {},
   "outputs": [],
   "source": [
    "# Make a plot of the WFD-level coverage\n",
    "pix = np.where((labels == \"euclid_overlap\") | (labels == \"lowdust\") |  (labels == \"virgo\"))\n",
    "pix2 = np.where((labels == \"LMC_SMC\") | (labels == \"bulgy\"))\n",
    "fp = np.zeros(hp.nside2npix(nside))\n",
    "fp[pix] = 1\n",
    "fp[pix2] = 0.8\n",
    "fp[np.where(labels == \"\")] = hp.UNSEEN\n",
    "plt.figure(figsize=(8, 6))\n",
    "hp.mollview(fp, title=None, cbar=False)\n",
    "plt.title(f\"WFD Footprint{version}\", fontsize='x-large', fontweight='regular', color='black')\n",
    "plt.figtext(0.51, 0.3, 'Low-dust\\n WFD', fontsize='x-large', fontweight='bold', color='black')\n",
    "#plt.figtext(0.31, 0.6, 'NES', fontsize='x-large', fontweight='bold', color='black')\n",
    "plt.figtext(0.68, 0.3, 'GP\\n WFD', fontsize='large', fontweight='bold', color='black')\n",
    "plt.figtext(0.9, 0.62, \"Virgo\",  fontsize='large', fontweight='bold', color='black')\n",
    "plt.figtext(0.38, 0.18, \"LMC SMC\", fontsize='large', fontweight='bold', color='black')\n",
    "#plt.figtext(0.18, 0.4, 'Dusty\\n Plane', fontsize='x-large', fontweight='bold', color='black')\n",
    "#plt.figtext(0.55, 0.1, 'SCP', fontsize='x-large', fontweight='bold', color='black')\n",
    "#plt.figtext(0.36, 0.3, 'DDFs', fontsize='x-large', fontweight='bold', color='black')\n",
    "#hp.graticule()\n",
    "plt.savefig('WFD_footprint.png', format='png')"
   ]
  },
  {
   "cell_type": "code",
   "execution_count": null,
   "id": "a4445ec5-e953-4f78-9853-b4e39041f0fb",
   "metadata": {},
   "outputs": [],
   "source": [
    "# Total area in \"WFD\" above\n",
    "pix2area = hp.nside2pixarea(nside, degrees=True)\n",
    "len(np.where(fp > 0.7)[0]) * pix2area"
   ]
  },
  {
   "cell_type": "code",
   "execution_count": null,
   "id": "82f3a58e-b4e9-4ec4-a8eb-6eef23d1b3da",
   "metadata": {},
   "outputs": [],
   "source": [
    "# Make a plot of the Minisurvey areas\n",
    "fp = np.zeros(hp.nside2npix(nside))\n",
    "fp[np.where(labels == \"dusty_plane\")] = 0.9\n",
    "fp[np.where(labels == \"nes\")] = 1\n",
    "fp[np.where(labels == \"scp\")] = 0.6\n",
    "fp[np.where(labels == \"\")] = hp.UNSEEN\n",
    "plt.figure(figsize=(8, 6))\n",
    "hp.mollview(fp, title=None, cbar=False)\n",
    "plt.title(f\"Minisurvey Footprint {version}\", fontsize='x-large', fontweight='regular', color='black')\n",
    "#plt.figtext(0.51, 0.3, 'Low-dust\\n WFD', fontsize='x-large', fontweight='bold', color='black')\n",
    "plt.figtext(0.31, 0.6, 'NES', fontsize='x-large', fontweight='bold', color='black')\n",
    "#plt.figtext(0.68, 0.3, 'GP\\n WFD', fontsize='large', fontweight='bold', color='black')\n",
    "#plt.figtext(0.9, 0.62, \"Virgo\",  fontsize='large', fontweight='bold', color='black')\n",
    "#plt.figtext(0.38, 0.18, \"LMC SMC\", fontsize='large', fontweight='bold', color='black')\n",
    "plt.figtext(0.18, 0.3, 'Dusty\\n Plane', rotation=75, fontsize='x-large', fontweight='bold', color='black')\n",
    "plt.figtext(0.55, 0.13, 'SCP', fontsize='x-large', fontweight='bold', color='black')\n",
    "#plt.figtext(0.36, 0.3, 'DDFs', fontsize='x-large', fontweight='bold', color='black')\n",
    "#hp.graticule()\n",
    "plt.savefig(\"Minisurvey_footprint.png\", format=\"png\")"
   ]
  },
  {
   "cell_type": "code",
   "execution_count": null,
   "id": "7591541b-5b92-4c77-ac13-5e782d3ae872",
   "metadata": {},
   "outputs": [],
   "source": [
    "# minisurvey areas\n",
    "pix2area = hp.nside2pixarea(nside, degrees=True)\n",
    "len(np.where(fp > 0.5)[0]) * pix2area"
   ]
  },
  {
   "cell_type": "code",
   "execution_count": null,
   "id": "af009282-934a-4b6a-86ed-c67aeefc47ed",
   "metadata": {},
   "outputs": [],
   "source": [
    "# Describe the DDF locations\n",
    "ddfs = ddf_locations()\n",
    "ddfs"
   ]
  },
  {
   "cell_type": "code",
   "execution_count": null,
   "id": "10aaf05e-89b1-4544-9371-4f3c97bded6c",
   "metadata": {},
   "outputs": [],
   "source": [
    "pdfs = {}\n",
    "for i in ddfs:\n",
    "    ra = ddfs[i][0]\n",
    "    dec = ddfs[i][1]\n",
    "    coord = SkyCoord(ra=ra * u.deg, dec=dec * u.deg, frame=\"icrs\")\n",
    "    eclip_lat = coord.barycentrictrueecliptic.lat.deg\n",
    "    eclip_lon = coord.barycentrictrueecliptic.lon.deg\n",
    "    gal_lon = coord.galactic.l.deg\n",
    "    gal_lat = coord.galactic.b.deg\n",
    "    pdfs[i] = [ra, dec, gal_lon, gal_lat, eclip_lon, eclip_lat]\n",
    "d = pd.DataFrame(pdfs, index=['RA', 'Dec', 'Gal l', 'Gal b', 'Eclip l', 'Eclip b']).round(2)\n",
    "print(d.to_markdown(tablefmt=\"rst\"))"
   ]
  },
  {
   "cell_type": "markdown",
   "id": "a9b8fe04-bceb-472c-b056-f78a29c6dfa4",
   "metadata": {},
   "source": [
    "Query the database directly to see the \"note\" information, which describes the method in which different observations were acquired"
   ]
  },
  {
   "cell_type": "code",
   "execution_count": null,
   "id": "1bf1656e-fc06-4378-904f-0a49bd90b3ea",
   "metadata": {},
   "outputs": [],
   "source": [
    "opsdb = '/Users/lynnej/opsim/fbs_4.0/baseline_v4.0_10yrs.db'\n",
    "conn = sqlite3.connect(opsdb)\n",
    "\n",
    "query = \"select count(*) as cc, scheduler_note from observations group by scheduler_note\"\n",
    "d = pd.read_sql(query, conn)\n",
    "nn = list(d.scheduler_note.unique())\n",
    "print([n for n in nn if 'ToO' not in n])"
   ]
  },
  {
   "cell_type": "code",
   "execution_count": null,
   "id": "a22930e1-d4ea-4c8c-9229-3f5850751471",
   "metadata": {},
   "outputs": [],
   "source": [
    "# Total number of visits and calculate fractional visits for each of the above modes\n",
    "total = d.cc.sum()\n",
    "d['fraction'] = d.cc/total* 100"
   ]
  },
  {
   "cell_type": "code",
   "execution_count": null,
   "id": "a2edf25c-9f9e-40ae-8755-06c6c68921a7",
   "metadata": {},
   "outputs": [],
   "source": [
    "display(HTML(d.query('not scheduler_note.str.contains(\"ToO\")').to_html()))"
   ]
  },
  {
   "cell_type": "code",
   "execution_count": null,
   "id": "898e0202-cfe3-47ed-a8d4-40624e2ee8a0",
   "metadata": {},
   "outputs": [],
   "source": [
    "# The pairs are generally related to WFD, but also include pairs in the NES and galactic plane\n",
    "# Pairs are acquired during relatively constant weather conditions, in 'regular' observing\n",
    "norm = total \n",
    "\n",
    "print('all pairs (but not triplet pairs)')\n",
    "allpairs = d.query('scheduler_note.str.contains(\"pair\")').cc.sum()\n",
    "allpairs / norm"
   ]
  },
  {
   "cell_type": "code",
   "execution_count": null,
   "id": "c1960f25-62ef-4181-a33c-3794ba28987b",
   "metadata": {},
   "outputs": [],
   "source": [
    "# the \"blob long\" + long survey mode are the *triplet* visits \n",
    "blob_long_sum = d.query('scheduler_note.str.contains(\"blob_long\")').cc.sum()\n",
    "blob_long_all = d.query('scheduler_note.str.contains(\"long\")').cc.sum()\n",
    "thirds = blob_long_all - blob_long_sum\n",
    "print('triplet pairs,  thirds,   all triplet visits (out of all visits)')\n",
    "print(blob_long_sum/norm, thirds/norm,  blob_long_all/norm,)\n",
    "print()\n",
    "# This should be about 3%\n",
    "print(\"triplet visits (out of all *pairs*)\")\n",
    "print((blob_long_all - blob_long_sum) / ((allpairs + blob_long_sum)/2))"
   ]
  },
  {
   "cell_type": "code",
   "execution_count": null,
   "id": "bd256421-1c0f-4a08-bb7e-b95f032eec40",
   "metadata": {},
   "outputs": [],
   "source": [
    "# Visits per DDF\n",
    "d.query('scheduler_note.str.contains(\"DD\")')"
   ]
  },
  {
   "cell_type": "code",
   "execution_count": null,
   "id": "86521464-9e02-4fab-96ac-7be51b6add90",
   "metadata": {},
   "outputs": [],
   "source": [
    "print('percent of survey in DDF visits')\n",
    "d.query('scheduler_note.str.contains(\"DD\") and ~scheduler_note.str.contains(\"RGES\")').fraction.sum()"
   ]
  },
  {
   "cell_type": "code",
   "execution_count": null,
   "id": "38d637b0-494f-49a6-8534-60df039f1bcf",
   "metadata": {},
   "outputs": [],
   "source": [
    "# Twilight NEO visit are for the near-sun twilight microsurvey\n",
    "print('percent of survey in near-sun twilight visits')\n",
    "d.query('scheduler_note.str.contains(\"twilight\")').cc.sum()/2 / total * 100"
   ]
  },
  {
   "cell_type": "markdown",
   "id": "93fd13f9-8b07-46d6-b5f1-e94000ea616c",
   "metadata": {},
   "source": [
    "To evaluate the typical number of visits per pointing in each of the footprint areas above, it's relatively straightforward to calculate the number of visits per pointing (in all filters and per filter) and then use the healpix 'label' maps above to identify the relevant healpixels for each area. "
   ]
  },
  {
   "cell_type": "code",
   "execution_count": null,
   "id": "7df26652-b4a3-485e-bd05-18a39c257268",
   "metadata": {},
   "outputs": [],
   "source": [
    "filterlist, colors, orders, sqls, info_labels = maf.batches.filter_list(all=True)\n",
    "opsim_name = os.path.split(opsdb)[-1].replace('.db', '')\n",
    "print('Running metrics on baseline run:', opsim_name)"
   ]
  },
  {
   "cell_type": "code",
   "execution_count": null,
   "id": "de7f0aed-41d7-48b5-a49a-6b7263268851",
   "metadata": {},
   "outputs": [],
   "source": [
    "# Define the metric bundles\n",
    "bundles = {}\n",
    "nvisit_metric = maf.CountMetric(col='observationStartMJD', metric_name='NVisits')\n",
    "coadd_metric = maf.Coaddm5Metric()\n",
    "depth_metric = maf.MedianMetric(col='fiveSigmaDepth', metric_name='Median m5')\n",
    "slicer = maf.HealpixSlicer(nside=nside)\n",
    "not_special_modes = 'scheduler_note not like \"%DD%\" and scheduler_note not like \"%twi%\"'\n",
    "for f in filterlist:\n",
    "    if f != 'all':\n",
    "        sql_add = ' and ' + not_special_modes\n",
    "    else:\n",
    "        sql_add = ''  # not_special_modes\n",
    "    bundles[f'nvisits_{f}'] = maf.MetricBundle(metric=nvisit_metric, \n",
    "                                  slicer=slicer, \n",
    "                                  constraint=sqls[f] + sql_add,\n",
    "                                  run_name=opsim_name,\n",
    "                                  info_label=info_labels[f],\n",
    "                                  plot_dict={'color': colors[f], 'xlabel': 'N Visits'})\n",
    "    bundles[f'coadd_{f}'] = maf.MetricBundle(metric=coadd_metric, \n",
    "                                  slicer=slicer, \n",
    "                                  constraint=sqls[f] + sql_add,\n",
    "                                  run_name=opsim_name,\n",
    "                                  info_label=info_labels[f],\n",
    "                                  plot_dict={'color': colors[f], 'xlabel': 'Coadd m5'})\n",
    "    bundles[f'visit_depth_{f}'] = maf.MetricBundle(metric=depth_metric,\n",
    "                                  slicer=slicer, \n",
    "                                  constraint=sqls[f] + sql_add,\n",
    "                                  run_name=opsim_name,\n",
    "                                  info_label=info_labels[f],\n",
    "                                  plot_dict={'color': colors[f], 'xlabel': 'Median visit m5'})"
   ]
  },
  {
   "cell_type": "code",
   "execution_count": null,
   "id": "9dcfeb00-442e-4441-9808-5da75f6d2cca",
   "metadata": {},
   "outputs": [],
   "source": [
    "# run the metrics \n",
    "out_dir = 'metric_data'\n",
    "g = maf.MetricBundleGroup(bundles, opsdb, out_dir=out_dir, results_db=None, verbose=True)\n",
    "g.run_all()"
   ]
  },
  {
   "cell_type": "code",
   "execution_count": null,
   "id": "4f6f07aa-6ed0-479d-b073-cfb22e079a8b",
   "metadata": {},
   "outputs": [],
   "source": [
    "# Make a plot with the number of visits \n",
    "ph = maf.PlotHandler(out_dir=out_dir, fig_format='png', thumbnail=False)\n",
    "\n",
    "ph.set_metric_bundles([bundles['nvisits_all']])\n",
    "user_plot_dict = {'extend': 'max', 'color_min': 0, 'color_max': 1000, 'figsize': (8, 7)}\n",
    "ph.plot(maf.HealpixSkyMap(), plot_dicts=user_plot_dict)\n",
    "plt.figtext(0.51, 0.45, 'Low-dust\\n WFD', fontsize='xx-large', fontweight='bold', color='black')\n",
    "plt.figtext(0.28, 0.6, 'NES', fontsize='xx-large', fontweight='bold', color='black')\n",
    "plt.figtext(0.9, 0.62, \"Virgo\",  fontsize='large', fontweight='bold', color='black')\n",
    "plt.figtext(0.71, 0.35, 'GP\\n WFD', fontsize='x-large', fontweight='bold', color='black')\n",
    "plt.figtext(0.72, 0.44, 'Roman', fontsize='large', rotation=0, fontweight='bold', color='black')\n",
    "plt.figtext(0.18, 0.4, 'Dusty\\n Plane', fontsize='x-large', rotation=75, fontweight='bold', color='black')\n",
    "plt.figtext(0.56, 0.26, 'SCP', fontsize='xx-large', fontweight='bold', color='black')\n",
    "plt.figtext(0.36, 0.38, 'DDFs', fontsize='x-large', fontweight='bold', color='black')\n",
    "plt.title(f'{opsim_name}', fontsize='xx-large', fontweight='normal')\n",
    "# We have to save the figure separately, because otherwise labels aren't getting saved.\n",
    "plt.savefig(f'{opsim_name}_nvisits.png', \n",
    "            facecolor='w', edgecolor='w', bbox_inches='tight',\n",
    "            dpi=270, format='png')"
   ]
  },
  {
   "cell_type": "markdown",
   "id": "25d1b0f5-42d2-4a9d-a1e3-9b9acbcec586",
   "metadata": {},
   "source": [
    "So let's compare these metric results in some of the subsets of areas described up above .. low-dust WFD, GP WFD, NES, SCP, dusty plane. "
   ]
  },
  {
   "cell_type": "code",
   "execution_count": null,
   "id": "bc831a2a-74f1-4ca6-8026-f84a694676d0",
   "metadata": {},
   "outputs": [],
   "source": [
    "regions = [region for region in np.unique(labels) if len(region) > 0]\n",
    "print(regions)\n",
    "\n",
    "nvisits = {}\n",
    "coadd_m5 = {}\n",
    "visit_depth = {}\n",
    "for region in regions:\n",
    "    pix = np.where(labels == region)\n",
    "    nvisits[region] = {}\n",
    "    coadd_m5[region] = {}\n",
    "    visit_depth[region] = {}\n",
    "    for f in filterlist:\n",
    "        nvisits[region][f] = np.median(bundles[f'nvisits_{f}'].metric_values.filled(0)[pix])\n",
    "        coadd_m5[region][f] = np.median(bundles[f'coadd_{f}'].metric_values.filled(np.nan)[pix])\n",
    "        visit_depth[region][f] = np.median(bundles[f'visit_depth_{f}'].metric_values.filled(np.nan)[pix])"
   ]
  },
  {
   "cell_type": "code",
   "execution_count": null,
   "id": "dd6ec244-42eb-43d0-a66e-39c471aa4eff",
   "metadata": {},
   "outputs": [],
   "source": [
    "# Number of visits\n",
    "nvis = pd.DataFrame(nvisits)\n",
    "region_order = ['lowdust', 'euclid_overlap', 'virgo', 'bulgy', 'LMC_SMC', 'dusty_plane', 'nes', 'scp']\n",
    "nn = [k for k in regions if k not in region_order]\n",
    "region_order += nn\n",
    "nvis.loc['ugrizy'] = nvis.loc[['u', 'g', 'r', 'i', 'z', 'y']].sum()\n",
    "nvis[region_order]"
   ]
  },
  {
   "cell_type": "code",
   "execution_count": null,
   "id": "8ff658f5-f5cc-4c1d-884d-5b39e5fc5ce2",
   "metadata": {},
   "outputs": [],
   "source": [
    "# Median single visit depth\n",
    "single_m5 = pd.DataFrame(visit_depth)\n",
    "single_m5.round(2)[region_order]"
   ]
  },
  {
   "cell_type": "code",
   "execution_count": null,
   "id": "db24e457-6ee2-4796-a1a7-06654a26039c",
   "metadata": {},
   "outputs": [],
   "source": [
    "# Coadded depth\n",
    "coadd_m5 = pd.DataFrame(coadd_m5)\n",
    "coadd_m5.round(2)[region_order]"
   ]
  },
  {
   "cell_type": "markdown",
   "id": "f0676e6c-4cec-4f71-8df4-57d534707221",
   "metadata": {},
   "source": [
    "We could also plot just a subset of regions of interest."
   ]
  },
  {
   "cell_type": "code",
   "execution_count": null,
   "id": "62dcf9c0-4107-430f-a671-c98c45591576",
   "metadata": {},
   "outputs": [],
   "source": [
    "regions = ['lowdust', 'euclid_overlap', 'virgo', 'bulgy', 'LMC_SMC']\n",
    "pix = np.zeros(hp.nside2npix(nside))\n",
    "for r in regions:\n",
    "    pix[np.where(labels == r)] = 1\n",
    "data = bundles['nvisits_all'].metric_values.data * pix\n",
    "# Let's make a temporary metric bundle, just so we can use the same plotting tools\n",
    "temp_bundle = maf.MetricBundle(nvisit_metric, slicer, None, \n",
    "                               run_name=opsim_name,\n",
    "                               info_label=\"WFD\",\n",
    "                               plot_dict={'color_min': 400, 'color_max':1000, \n",
    "                                          'x_min': 0, 'x_max':1000,\n",
    "                                          'extend': 'both'})\n",
    "temp_bundle.metric_values = np.ma.MaskedArray(data=data, \n",
    "                                              mask=pix-1)\n",
    "temp_bundle.plot()"
   ]
  },
  {
   "cell_type": "code",
   "execution_count": null,
   "id": "bfc4a366-8f5d-4d79-a92f-835116b42465",
   "metadata": {},
   "outputs": [],
   "source": [
    "regions = ['dusty_plane', 'nes', 'scp']\n",
    "pix = np.zeros(hp.nside2npix(nside))\n",
    "for r in regions:\n",
    "    pix[np.where(labels == r)] = 1\n",
    "data = bundles['nvisits_all'].metric_values.data * pix\n",
    "# Let's make a temporary metric bundle, just so we can use the same plotting tools\n",
    "temp_bundle = maf.MetricBundle(nvisit_metric, slicer, None, \n",
    "                               run_name=opsim_name,\n",
    "                               info_label=\"Minisurveys\",\n",
    "                               plot_dict={'color_min': 0, 'color_max':350, \n",
    "                                          'extend': 'max'})\n",
    "temp_bundle.metric_values = np.ma.MaskedArray(data=data, \n",
    "                                              mask=pix-1)\n",
    "temp_bundle.plot()"
   ]
  },
  {
   "cell_type": "code",
   "execution_count": null,
   "id": "77c216f7-22d9-4274-9866-a2fcccb03d01",
   "metadata": {},
   "outputs": [],
   "source": [
    "# Generate twilight microsurvey footprint\n",
    "m = maf.CountMetric('observationStartMJD', metric_name=\"NVisits\")\n",
    "s = maf.HealpixSlicer(nside=64)\n",
    "constraint = 'scheduler_note like \"%twi%\"'\n",
    "b = maf.MetricBundle(m, s, constraint, run_name=opsim_name, info_label=\"near sun twilight\")\n",
    "g = maf.MetricBundleGroup({0: b}, opsdb)\n",
    "g.run_all()"
   ]
  },
  {
   "cell_type": "code",
   "execution_count": null,
   "id": "7f829ff6-ece2-4fab-8e85-e7b9afb10e1b",
   "metadata": {},
   "outputs": [],
   "source": [
    "ph.set_metric_bundles([b])\n",
    "fig = ph.plot(maf.HealpixSkyMap(), \n",
    "        plot_dicts={'title': f\"{opsim_name} NearSun Twilight Survey\", \n",
    "                    'xlabel': \"NVisits\", \"n_ticks\": 7,\n",
    "                   \"color_min\": 0, \"color_max\":90, \"extend\":\"max\"})"
   ]
  },
  {
   "cell_type": "code",
   "execution_count": null,
   "id": "a0e84c1c-cc76-49fa-9f81-2b61b8e555ff",
   "metadata": {},
   "outputs": [],
   "source": [
    "conn = sqlite3.connect(opsdb)\n",
    "\n",
    "query = \"select *  from observations\"\n",
    "visits = pd.read_sql(query, conn)"
   ]
  },
  {
   "cell_type": "code",
   "execution_count": null,
   "id": "b46cbba6-e390-49d8-92fe-ab1d93c50008",
   "metadata": {},
   "outputs": [],
   "source": [
    "visits.query('scheduler_note.str.contains(\"twi\")')['filter'].unique()"
   ]
  },
  {
   "cell_type": "code",
   "execution_count": null,
   "id": "5d5e7e14-8314-49d1-aba5-ea58454bf16a",
   "metadata": {},
   "outputs": [],
   "source": [
    "plt.figure(figsize=(8, 5))\n",
    "tt = visits.query('scheduler_note.str.contains(\"twi\")')\n",
    "tto = visits.query('scheduler_note.str.contains(\"twi\") == False')\n",
    "b,p,n = plt.hist(tto.solarElong, bins=100)\n",
    "b,p,n = plt.hist(tt.solarElong, bins=p, label=\"Twilight Near-Sun\", color='orange')\n",
    "plt.legend()\n",
    "plt.xlabel(\"Solar elongation (deg)\", fontsize='x-large')\n",
    "plt.ylabel(\"Number of observations\", fontsize='x-large')\n",
    "plt.title(f\"{opsim_name}\", fontsize='x-large')\n",
    "plt.savefig(f\"{opsim_name}_solar_elongation_twi.png\")"
   ]
  },
  {
   "cell_type": "code",
   "execution_count": null,
   "id": "59bef038-589e-4ebf-9960-f41c9b95e66c",
   "metadata": {},
   "outputs": [],
   "source": [
    "visits.query('scheduler_note.str.contains(\"twilight\")')['airmass'].describe()"
   ]
  },
  {
   "cell_type": "code",
   "execution_count": null,
   "id": "999d9768-c511-4423-9dd7-11828f85328a",
   "metadata": {},
   "outputs": [],
   "source": []
  }
 ],
 "metadata": {
  "kernelspec": {
   "display_name": "Python 3 (ipykernel)",
   "language": "python",
   "name": "python3"
  },
  "language_info": {
   "codemirror_mode": {
    "name": "ipython",
    "version": 3
   },
   "file_extension": ".py",
   "mimetype": "text/x-python",
   "name": "python",
   "nbconvert_exporter": "python",
   "pygments_lexer": "ipython3",
   "version": "3.11.10"
  }
 },
 "nbformat": 4,
 "nbformat_minor": 5
}
