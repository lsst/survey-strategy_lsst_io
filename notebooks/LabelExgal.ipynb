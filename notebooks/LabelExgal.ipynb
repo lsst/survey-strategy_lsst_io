{
 "cells": [
  {
   "cell_type": "markdown",
   "id": "11b1e000-8193-466e-88e2-e50572a4e8dc",
   "metadata": {},
   "source": [
    "Demonstration notebook for labelling visits for a particular purpose"
   ]
  },
  {
   "cell_type": "code",
   "execution_count": null,
   "id": "f612a5f4-eada-4713-af93-0e4777b5af1e",
   "metadata": {},
   "outputs": [],
   "source": [
    "import os\n",
    "import numpy as np\n",
    "import pandas as pd\n",
    "import sqlite3\n",
    "import healpy as hp\n",
    "import rubin_sim.maf as maf\n",
    "from rubin_scheduler.scheduler.utils import CurrentAreaMap"
   ]
  },
  {
   "cell_type": "code",
   "execution_count": null,
   "id": "4ca5c862-dfcb-4748-9844-3527f0c64d63",
   "metadata": {},
   "outputs": [],
   "source": [
    "nside = 64\n",
    "sky = CurrentAreaMap(nside=nside)\n",
    "# footprints contains the goal weights per filter, for the sky (all survey modes together)\n",
    "# labels contains the label (survey mode) for each healpix. \n",
    "footprints, labels = sky.return_maps()\n",
    "print(np.unique(labels))\n",
    "\n",
    "wfd_extragalactic = np.where((labels == \"euclid_overlap\") |  (labels ==\"lowdust\"), 1, 0)\n",
    "hp.mollview(wfd_extragalactic)"
   ]
  },
  {
   "cell_type": "code",
   "execution_count": null,
   "id": "bb143dfd-87a1-4423-b81b-4d643f9faf58",
   "metadata": {},
   "outputs": [],
   "source": [
    "# You can look at the notes to see if there's anything you should explicitly reject\n",
    "opsdb = '/Users/lynnej/opsim/fbs_4.0/baseline_v4.0_10yrs.db'\n",
    "conn = sqlite3.connect(opsdb)\n",
    "\n",
    "opsim = os.path.split(opsdb)[-1].replace('.db', '')\n",
    "print(opsim, \":\", opsdb)\n",
    "visits = pd.read_sql('select * from observations', conn)\n",
    "ovisitsnp = visits.to_records(index=False)\n",
    "\n",
    "if \"scheduler_note\" not in visits.columns:\n",
    "    print(\"using an older simulation so probably need to use 'note' instead of 'scheduler_note'\")\n",
    "\n",
    "note_col = 'scheduler_note'"
   ]
  },
  {
   "cell_type": "code",
   "execution_count": null,
   "id": "8dfbe166-0204-4aa7-9fd1-da0c5870702b",
   "metadata": {},
   "outputs": [],
   "source": [
    "name = 'ExGal'\n",
    "\n",
    "# label the visits based on their spatial location using the WFDlabelStacker\n",
    "# https://github.com/lsst/rubin_sim/blob/3c307d33dcae0a89de7a6925debb8acf7e120606/rubin_sim/maf/stackers/label_stackers.py#L9\n",
    "footpt = np.where((labels == 'lowdust') | (labels == 'euclid_overlap'), 1, 0)\n",
    "stacker = maf.WFDlabelStacker(footprint=footpt, area_id_name=name, exclude_dd=False)\n",
    "ovisitsnp = stacker.run(sim_data=ovisitsnp)"
   ]
  },
  {
   "cell_type": "code",
   "execution_count": null,
   "id": "266f77a5-f010-48b3-a569-2a50ce1adb0a",
   "metadata": {},
   "outputs": [],
   "source": [
    "# Now ovisitsnp has all visits which lie in the extragalactic WFD area labeled as \"WFD\" \n",
    "# But you probably still want to reject non-wfd mode visits so we'll just flip those back\n",
    "labelled_visits = pd.DataFrame(ovisitsnp)"
   ]
  },
  {
   "cell_type": "code",
   "execution_count": null,
   "id": "7b8f9264-fa35-4d3f-ad65-a283f8dc2323",
   "metadata": {},
   "outputs": [],
   "source": [
    "print([n for n in labelled_visits[note_col].unique() if 'ToO' not in n])\n",
    "labelled_visits[['scheduler_note', 'area_id']].groupby('scheduler_note').area_id.unique()"
   ]
  },
  {
   "cell_type": "code",
   "execution_count": null,
   "id": "7a75f780-0f4e-4833-8ece-cd452c7cb478",
   "metadata": {},
   "outputs": [],
   "source": [
    "query = f\"({note_col}.str.contains('DD')) or ({note_col}.str.contains('twilight')) or ({note_col}.str.contains('ToO'))\"\n",
    "special_mode = visits.query(query)\n",
    "col_id = np.where(labelled_visits.columns.values == \"area_id\")[0][0]\n",
    "labelled_visits.iloc[special_mode.index, col_id] = 'NULL'"
   ]
  },
  {
   "cell_type": "code",
   "execution_count": null,
   "id": "dd618c50-6df1-47ef-8eb6-dea192b5b7d5",
   "metadata": {},
   "outputs": [],
   "source": [
    "labelled_visits.head()"
   ]
  },
  {
   "cell_type": "code",
   "execution_count": null,
   "id": "8fda16e9-3638-4a35-87f4-2fef53db615f",
   "metadata": {},
   "outputs": [],
   "source": [
    "newdb = f'exgal_labelled_{opsim}.db'\n",
    "if os.path.isfile(newdb):\n",
    "    os.remove(newdb)\n",
    "    \n",
    "conn = sqlite3.connect(newdb)\n",
    "\n",
    "labelled_visits.to_sql(name='observations', con=conn, index=False)"
   ]
  },
  {
   "cell_type": "code",
   "execution_count": null,
   "id": "a79496ad-06bf-4b86-93e4-e692db3f7e35",
   "metadata": {},
   "outputs": [],
   "source": [
    "!ls $newdb"
   ]
  },
  {
   "cell_type": "code",
   "execution_count": null,
   "id": "8a3ae71f-e0ed-411b-ac6b-bd0500a6af58",
   "metadata": {},
   "outputs": [],
   "source": [
    "# lynnej@tama notebooks % sqlite3 exgal_labelled_baseline_v4.0_10yrs.db \n",
    "# SQLite version 3.45.3 2024-04-15 13:34:05\n",
    "# Enter \".help\" for usage hints.\n",
    "# sqlite> select * from observations limit 1;\n",
    "# 0|200.782210821212|-50.1164984340556|60796.0014392263|60796.0686481482|29.2|r|142.995017640325|0.0|2|1.37960737879413|0.78353725168396|1.19302564834337|1.03266708293825|21.0279565795215|0|124.349156223464|33.6|45.9675478977889|23.9438499398853|46.5327792596511|132.733199166703|277.092454740965|-82.8394295681317|0.125|4.34377657911936|-25.0323607709486||blob_long, gr, a||1|148.947367621645|44.1655527915437|0.0|307.54443047623|273.457997458161|38.1092631808875|14.9774602028322|83.7116078104931|29.1111317773701|128.922776167818|142.152584989914|24.587033631459|132.523734335195|0|||ExGal\n",
    "# sqlite> select distinct(area_id) from observations;\n",
    "# ExGal\n",
    "# NULL\n",
    "# sqlite> \n"
   ]
  }
 ],
 "metadata": {
  "kernelspec": {
   "display_name": "Python 3 (ipykernel)",
   "language": "python",
   "name": "python3"
  },
  "language_info": {
   "codemirror_mode": {
    "name": "ipython",
    "version": 3
   },
   "file_extension": ".py",
   "mimetype": "text/x-python",
   "name": "python",
   "nbconvert_exporter": "python",
   "pygments_lexer": "ipython3",
   "version": "3.11.10"
  }
 },
 "nbformat": 4,
 "nbformat_minor": 5
}
