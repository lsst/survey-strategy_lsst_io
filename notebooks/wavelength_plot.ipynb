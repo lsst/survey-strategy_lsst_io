{
 "cells": [
  {
   "cell_type": "code",
   "execution_count": null,
   "id": "0e6d97d9-fb28-46ef-b23b-71fda833d5df",
   "metadata": {},
   "outputs": [],
   "source": [
    "import numpy as np\n",
    "import pandas as pd\n",
    "import matplotlib.pyplot as plt\n",
    "\n",
    "# In RSP, have rubin_sim phot_utils available, so add syseng_throughputs\n",
    "# git clone git@github.com:lsst-pst/syseng_throughputs.git\n",
    "# then pip install - \n",
    "# pip install . -e --no-deps\n",
    "\n",
    "import syseng_throughputs as st"
   ]
  },
  {
   "cell_type": "code",
   "execution_count": null,
   "id": "dc1621fe-8766-4b79-b20b-7f04ac683811",
   "metadata": {},
   "outputs": [],
   "source": [
    "defaultDirs = st.setDefaultDirs()"
   ]
  },
  {
   "cell_type": "code",
   "execution_count": null,
   "id": "544f3301-2546-4460-9a0d-0a1ee740ea3d",
   "metadata": {},
   "outputs": [],
   "source": [
    "hardware, system = st.buildHardwareAndSystem(defaultDirs)"
   ]
  },
  {
   "cell_type": "code",
   "execution_count": null,
   "id": "80ca5129-02f4-4498-93c0-6d3affd57046",
   "metadata": {},
   "outputs": [],
   "source": [
    "eff_wavelen = {}\n",
    "for b in 'ugrizy':\n",
    "    eff_wavelen[b] = system[b].calc_eff_wavelen()[1]"
   ]
  },
  {
   "cell_type": "code",
   "execution_count": null,
   "id": "5d526c02-23ab-4941-be9b-79e88dfd1a8d",
   "metadata": {},
   "outputs": [],
   "source": [
    "wave_p = {}\n",
    "wave_m = {}\n",
    "for b in 'ugrizy':\n",
    "    max_val = system[b].sb.max()\n",
    "    wave_half = system[b].wavelen[np.where(system[b].sb > max_val / 2)]\n",
    "    wave_p[b] = wave_half.max()\n",
    "    wave_m[b] = wave_half.min()"
   ]
  },
  {
   "cell_type": "code",
   "execution_count": null,
   "id": "12a91304-f182-4c40-9e5f-559a2466be8d",
   "metadata": {},
   "outputs": [],
   "source": [
    "d = pd.DataFrame([eff_wavelen, wave_p, wave_m], columns=['u', 'g', 'r', 'i', 'z', 'y'], index=['eff_wavelen', 'wave_p', 'wave_m']).T"
   ]
  },
  {
   "cell_type": "code",
   "execution_count": null,
   "id": "21742daa-7d5f-455a-8859-1dcc40bfa0e7",
   "metadata": {},
   "outputs": [],
   "source": [
    "d['fwhm'] = d['wave_p'] - d['wave_m']"
   ]
  },
  {
   "cell_type": "code",
   "execution_count": null,
   "id": "bd89482f-a8d9-4a93-8f8a-42ed13499cac",
   "metadata": {},
   "outputs": [],
   "source": [
    "d[['eff_wavelen', 'fwhm', 'wave_m', 'wave_p']]"
   ]
  },
  {
   "cell_type": "code",
   "execution_count": null,
   "id": "d9d86119-34e5-4c3b-a431-26acb0c5c4a9",
   "metadata": {},
   "outputs": [],
   "source": [
    "plot_filter_colors_white_background = {'u': '#0c71ff', 'g': '#49be61', 'r': '#c61c00', 'i': '#ffc200', 'z': '#f341a2', 'y': '#5d0000'}\n",
    "plot_filter_colors_black_background = {'u': '#3eb7ff', 'g': '#30c39f', 'r': '#ff7e00', 'i': '#2af5ff', 'z': '#a7f9c1', 'y': '#fdc900'}\n",
    "plot_line_styles = {'u': '--', 'g': ':', 'r': '-', 'i': '-.', 'z': (0, (3, 5, 1, 5, 1, 5)), 'y': (0, (3, 1, 1, 1))}\n",
    "colors = plot_filter_colors_white_background\n",
    "\n",
    "plt.figure(figsize=(12, 6))\n",
    "for b in 'ugrizy':\n",
    "    plt.plot(system[b].wavelen, system[b].sb, color=colors[b], linestyle=plot_line_styles[b], \n",
    "             label=f\"{b} @ {d.loc[b, 'eff_wavelen']:.0f} nm, FWHM {d.loc[b, 'fwhm']:.0f} nm\")\n",
    "    plt.axvline(d.loc[b, 'eff_wavelen'], ymin = 0.9, ymax=0.99, color=colors[b], alpha=0.7)\n",
    "    plt.axvspan(d.loc[b, 'wave_p'], d.loc[b, 'wave_m'], ymin=.95, ymax=.96, color=colors[b], alpha=0.55)\n",
    "plt.ylim(0.0, 0.7)\n",
    "plt.xlim(300, 1100)\n",
    "plt.grid(alpha=0.6)\n",
    "plt.legend(loc=(0.865, 0.65), fancybox=True, framealpha=1)\n",
    "plt.xlabel(\"Wavelength (nm)\", fontsize='x-large')\n",
    "plt.ylabel(\"Fractional throughput\", fontsize='x-large')\n",
    "plt.savefig(\"throughputs_bands.png\", bbox_inches = 'tight')"
   ]
  },
  {
   "cell_type": "code",
   "execution_count": null,
   "id": "0306a84a-ef18-43bf-99f6-c08c3af96939",
   "metadata": {},
   "outputs": [],
   "source": []
  }
 ],
 "metadata": {
  "kernelspec": {
   "display_name": "Python 3 (ipykernel)",
   "language": "python",
   "name": "python3"
  },
  "language_info": {
   "codemirror_mode": {
    "name": "ipython",
    "version": 3
   },
   "file_extension": ".py",
   "mimetype": "text/x-python",
   "name": "python",
   "nbconvert_exporter": "python",
   "pygments_lexer": "ipython3",
   "version": "3.13.1"
  }
 },
 "nbformat": 4,
 "nbformat_minor": 5
}
